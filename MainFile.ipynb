{
 "cells": [
  {
   "cell_type": "code",
   "execution_count": 1,
   "metadata": {},
   "outputs": [
    {
     "name": "stderr",
     "output_type": "stream",
     "text": [
      "Using TensorFlow backend.\n"
     ]
    }
   ],
   "source": [
    "################################\n",
    "#### IMPORTS AND INICIALIZATIONS\n",
    "################################\n",
    "\n",
    "import re\n",
    "import pandas as pd\n",
    "import numpy as np\n",
    "from keras.models import Model\n",
    "from keras.layers import Input, Dense\n",
    "from matplotlib import pyplot as plt\n",
    "from sklearn.decomposition import PCA\n",
    "from sklearn.preprocessing import MinMaxScaler\n",
    "\n",
    "data = 'RAVEN/TrialRightWrong/Trial'\n",
    "\n",
    "# All the files we need\n",
    "files = ['/DEI_trial_by_trial_Right.xlsx', \n",
    "         '/DEI_trial_by_trial_Wrong.xlsx', \n",
    "         '/esec_trial_by_trial_Right.xlsx',\n",
    "         '/esec_trial_by_trial_Wrong.xlsx']\n",
    "genreFile = 'RAVEN/Informação_género.txt'\n",
    "\n"
   ]
  },
  {
   "cell_type": "code",
   "execution_count": 2,
   "metadata": {},
   "outputs": [],
   "source": [
    "##################\n",
    "## EXTRACT DATA ##\n",
    "##################\n",
    "\n",
    "# Initialize a dict for aggregate the values for training and testing\n",
    "values = { 'TRAINING': {}, 'TESTING': {} }\n",
    "for file in files:\n",
    "    \n",
    "    # For each file\n",
    "    f = pd.ExcelFile(data+file)\n",
    "\n",
    "    # For each Train\n",
    "    for sheet in f.sheet_names:\n",
    "        \n",
    "        df = pd.read_excel(f,  sheet_name=sheet)\n",
    "        # Get the fatigue value for each person\n",
    "        # In the 'unnamed:22' column is where person id is\n",
    "        # Notice that if a person isn't in the 'right files', so he is in the 'wrong files' \n",
    "        category = 'TRAINING' if 'TRAINING' in sheet else 'TESTING' if 'TESTING' in sheet else None  \n",
    "        if category and df.shape[0] > 0:\n",
    "            dataValues = values[category]\n",
    "\n",
    "            for index, row in df[df.columns].iterrows():\n",
    "                *rest,id = row \n",
    "                cell = rest\n",
    "                cell += [1 if (file=='/DEI_trial_by_trial_Right.xlsx' or file=='/esec_trial_by_trial_Right.xlsx') else 0]\n",
    "                cell += [int(\"DEI\" in id)] \n",
    "                if (id not in dataValues):\n",
    "                    dataValues[id] = [cell]\n",
    "                else:\n",
    "                    dataValues[id] += [cell] \n",
    "    \n",
    "        \n",
    "#Extract the genre from genreFile\n",
    "with open(genreFile, \"r\") as f:\n",
    "    for l in f:\n",
    "        l = l.strip()\n",
    "        if l==\"\" or '--' in l:continue\n",
    "        id, genre, rest = l.split(' - ')\n",
    "        \n",
    "        if id[-2] == '_': id = id[:-1] + '0' + id[-1]\n",
    "        for dataDict in [values['TRAINING'], values['TESTING']]: #get dicts train and test\n",
    "            for i in range(len(dataDict[id])):\n",
    "                dataDict[id][i].append(int(genre=='Masculino')) \n",
    "# For each person ( PERSON : list([-...characteristic_values, course genre ]))\n",
    "                "
   ]
  },
  {
   "cell_type": "code",
   "execution_count": 3,
   "metadata": {},
   "outputs": [],
   "source": [
    "#################\n",
    "## PRE PROCESS ##\n",
    "#################\n",
    "\n",
    "# For each person ( PERSON : list([genre, course, fatigue_value, correct/incorrect ]))        \n",
    "items = { 'TRAINING': [], 'TESTING': [] }\n",
    "for dataType in ['TRAINING','TESTING']:\n",
    "    for v in values[dataType].values():\n",
    "        items[dataType] += v\n",
    "items['TRAINING'] = np.matrix(items['TRAINING'])\n",
    "items['TESTING'] = np.matrix(items['TESTING'])\n",
    "\n",
    "Itrain = items['TRAINING']   #introducing missing values by the average\n",
    "col_mean = np.nanmean(Itrain, axis=0)\n",
    "inds = np.where(np.isnan(Itrain))\n",
    "Itrain[inds] = np.take(col_mean, inds[1])\n",
    "\n",
    "scaler = MinMaxScaler()\n",
    "scaler.fit(Itrain[:,:-2])\n",
    "\n",
    "Itest = items['TESTING']   #fixing missing values by the average\n",
    "col_mean = np.nanmean(Itest, axis=0)\n",
    "inds = np.where(np.isnan(Itest))\n",
    "Itest[inds] = np.take(col_mean, inds[1])\n",
    "\n",
    "data_trainX = scaler.transform(Itrain[:,:-2]) #normalize data\n",
    "data_trainY = Itrain[:,-2:]\n",
    "\n",
    "data_testX = scaler.transform(Itest[:,:-2]) #normalize data\n",
    "data_testY = Itest[:,-2:] \n"
   ]
  },
  {
   "cell_type": "code",
   "execution_count": 4,
   "metadata": {},
   "outputs": [
    {
     "data": {
      "image/png": "[encoded data removed]",
      "text/plain": [
       "<Figure size 432x288 with 1 Axes>"
      ]
     },
     "metadata": {
      "needs_background": "light"
     },
     "output_type": "display_data"
    }
   ],
   "source": [
    "#######\n",
    "# PCA #\n",
    "#######\n",
    "\n",
    "pca = PCA(n_components=2)\n",
    "pcaData = pca.fit_transform(data_trainX)\n",
    "\n",
    "plt.scatter(pcaData[:,-2], pcaData[:,-1])\n",
    "\n",
    "plt.show()"
   ]
  },
  {
   "cell_type": "code",
   "execution_count": 5,
   "metadata": {
    "scrolled": false
   },
   "outputs": [
    {
     "name": "stdout",
     "output_type": "stream",
     "text": [
      "WARNING:tensorflow:From /home/danielmartins/anaconda3/lib/python3.7/site-packages/keras/backend/tensorflow_backend.py:74: The name tf.get_default_graph is deprecated. Please use tf.compat.v1.get_default_graph instead.\n",
      "\n",
      "WARNING:tensorflow:From /home/danielmartins/anaconda3/lib/python3.7/site-packages/keras/backend/tensorflow_backend.py:517: The name tf.placeholder is deprecated. Please use tf.compat.v1.placeholder instead.\n",
      "\n",
      "WARNING:tensorflow:From /home/danielmartins/anaconda3/lib/python3.7/site-packages/keras/backend/tensorflow_backend.py:4138: The name tf.random_uniform is deprecated. Please use tf.random.uniform instead.\n",
      "\n",
      "WARNING:tensorflow:From /home/danielmartins/anaconda3/lib/python3.7/site-packages/keras/optimizers.py:790: The name tf.train.Optimizer is deprecated. Please use tf.compat.v1.train.Optimizer instead.\n",
      "\n",
      "WARNING:tensorflow:From /home/danielmartins/anaconda3/lib/python3.7/site-packages/keras/backend/tensorflow_backend.py:3376: The name tf.log is deprecated. Please use tf.math.log instead.\n",
      "\n",
      "WARNING:tensorflow:From /home/danielmartins/anaconda3/lib/python3.7/site-packages/tensorflow_core/python/ops/nn_impl.py:183: where (from tensorflow.python.ops.array_ops) is deprecated and will be removed in a future version.\n",
      "Instructions for updating:\n",
      "Use tf.where in 2.0, which has the same broadcast rule as np.where\n",
      "WARNING:tensorflow:From /home/danielmartins/anaconda3/lib/python3.7/site-packages/keras/backend/tensorflow_backend.py:986: The name tf.assign_add is deprecated. Please use tf.compat.v1.assign_add instead.\n",
      "\n",
      "WARNING:tensorflow:From /home/danielmartins/anaconda3/lib/python3.7/site-packages/keras/backend/tensorflow_backend.py:973: The name tf.assign is deprecated. Please use tf.compat.v1.assign instead.\n",
      "\n",
      "WARNING:tensorflow:From /home/danielmartins/anaconda3/lib/python3.7/site-packages/keras/backend/tensorflow_backend.py:2741: The name tf.Session is deprecated. Please use tf.compat.v1.Session instead.\n",
      "\n",
      "WARNING:tensorflow:From /home/danielmartins/anaconda3/lib/python3.7/site-packages/keras/backend/tensorflow_backend.py:174: The name tf.get_default_session is deprecated. Please use tf.compat.v1.get_default_session instead.\n",
      "\n",
      "WARNING:tensorflow:From /home/danielmartins/anaconda3/lib/python3.7/site-packages/keras/backend/tensorflow_backend.py:181: The name tf.ConfigProto is deprecated. Please use tf.compat.v1.ConfigProto instead.\n",
      "\n",
      "WARNING:tensorflow:From /home/danielmartins/anaconda3/lib/python3.7/site-packages/keras/backend/tensorflow_backend.py:190: The name tf.global_variables is deprecated. Please use tf.compat.v1.global_variables instead.\n",
      "\n",
      "WARNING:tensorflow:From /home/danielmartins/anaconda3/lib/python3.7/site-packages/keras/backend/tensorflow_backend.py:199: The name tf.is_variable_initialized is deprecated. Please use tf.compat.v1.is_variable_initialized instead.\n",
      "\n",
      "WARNING:tensorflow:From /home/danielmartins/anaconda3/lib/python3.7/site-packages/keras/backend/tensorflow_backend.py:206: The name tf.variables_initializer is deprecated. Please use tf.compat.v1.variables_initializer instead.\n",
      "\n"
     ]
    }
   ],
   "source": [
    "####################\n",
    "## NEURAL NETWORK ##\n",
    "####################\n",
    "\n",
    "np.random.seed(2)\n",
    "inputs = Input(shape=(data_trainX.shape[1],))\n",
    "x = Dense(32, activation='relu')(inputs)\n",
    "x = Dense(8, activation='relu')(x)\n",
    "x = Dense(8, activation='relu')(x)\n",
    "outputs = Dense(data_trainY.shape[1], activation='sigmoid')(x)\n",
    "model = Model(inputs=inputs, outputs=outputs)\n",
    "model.compile(optimizer='adam', loss='binary_crossentropy', metrics=['acc'])\n",
    "\n",
    "model.fit(data_trainX, data_trainY, epochs=25, batch_size=16, verbose=0)\n",
    "predicts = (model.predict(data_testX)>0.5)\n",
    "\n"
   ]
  },
  {
   "cell_type": "markdown",
   "metadata": {},
   "source": [
    "# Metrics"
   ]
  },
  {
   "cell_type": "code",
   "execution_count": 6,
   "metadata": {},
   "outputs": [
    {
     "name": "stdout",
     "output_type": "stream",
     "text": [
      "accuracy: 0.5827943078913325\n",
      "-----\n",
      "genre accuracy: 0.620\n",
      "---\n",
      "precision genre FEMALE: 0.419\n",
      "reccal genre FEMALE: 0.077\n",
      "f1-scor genre FEMALE: 0.130\n",
      "---\n",
      "precision genre MALE: 0.634\n",
      "reccal genre MALE: 0.937\n",
      "f1-scor genre MALE: 0.757\n",
      "-----\n",
      "course accuracy: 0.546\n",
      "---\n",
      "precision genre ESEC: 0.520\n",
      "reccal genre ESEC: 0.324\n",
      "f1-scor genre ESEC: 0.399\n",
      "---\n",
      "precision genre DEI: 0.556\n",
      "reccal genre DEI: 0.740\n",
      "f1-scor genre DEI: 0.635\n",
      "-----\n",
      "group accuracy: 0.356\n",
      "---\n",
      "precision group ESEC AND FEMALE: 0.265\n",
      "reccal group ESEC AND FEMALE: 0.083\n",
      "f1-scor group ESEC AND FEMALE: 0.127\n",
      "---\n",
      "precision group ESEC AND MALE: 0.263\n",
      "reccal group ESEC AND MALE: 0.230\n",
      "f1-scor group ESEC AND MALE: 0.245\n",
      "---\n",
      "precision group DEI AND FEMALE: 0.000\n",
      "reccal group DEI AND FEMALE: 0.000\n",
      "f1-scor group DEI AND FEMALE: 0.000\n",
      "---\n",
      "precision group DEI AND MALE: 0.395\n",
      "reccal group DEI AND MALE: 0.748\n",
      "f1-scor group DEI AND MALE: 0.517\n"
     ]
    }
   ],
   "source": [
    "print('accuracy:',(predicts==data_testY).sum()/(predicts.shape[0]*predicts.shape[1]))\n",
    "print('-----')\n",
    "genrePredicts = predicts[:,-1:]\n",
    "genreTest = data_testY[:,-1:]\n",
    "indnames = ['FEMALE','MALE']\n",
    "print(f\"genre accuracy: {(genrePredicts==genreTest).sum()/genrePredicts.shape[0]:.3f}\")\n",
    "for i in range(2):\n",
    "    sum_predicts = (genrePredicts==i).sum()\n",
    "    sum_true = (genreTest==i).sum()\n",
    "    precision = np.multiply(genrePredicts==i,genreTest==i).sum()/sum_predicts if sum_predicts else 0\n",
    "    recall = np.multiply(genrePredicts==i,genreTest==i).sum()/sum_true\n",
    "    f1scor = 2*precision*recall/(precision+recall) if precision+recall else 0.0\n",
    "    print('---')\n",
    "    print(f\"precision genre {indnames[i]}: {precision:.3f}\")    \n",
    "    print(f\"reccal genre {indnames[i]}: {recall:.3f}\")\n",
    "    print(f\"f1-scor genre {indnames[i]}: {f1scor:.3f}\")\n",
    "\n",
    "print('-----')\n",
    "coursePredicts = predicts[:,-2:-1] #same as [:,-2] but in matrix form\n",
    "courseTest = data_testY[:,-2:-1] #same as [:,-2] but in matrix form\n",
    "indnames = ['ESEC','DEI']\n",
    "print(f\"course accuracy: {(coursePredicts==courseTest).sum()/coursePredicts.shape[0]:.3f}\")\n",
    "for i in range(2):\n",
    "    sum_predicts = (coursePredicts==i).sum()\n",
    "    sum_true = (courseTest==i).sum()\n",
    "    precision = np.multiply(coursePredicts==i,courseTest==i).sum()/sum_predicts if sum_predicts else 0\n",
    "    recall = np.multiply(coursePredicts==i,courseTest==i).sum()/sum_true\n",
    "    f1scor = 2*precision*recall/(precision+recall) if precision+recall else 0.0\n",
    "    print('---')\n",
    "    print(f\"precision genre {indnames[i]}: {precision:.3f}\")    \n",
    "    print(f\"reccal genre {indnames[i]}: {recall:.3f}\")\n",
    "    print(f\"f1-scor genre {indnames[i]}: {f1scor:.3f}\")\n",
    "print('-----')\n",
    "\n",
    "groupPredicts = predicts[:,-1:]+predicts[:,-2:-1]*2 #0,1,2,3\n",
    "groupTest = data_testY[:,-1:]+data_testY[:,-2:-1]*2 #0,1,2,3\n",
    "print(f\"group accuracy: {(groupPredicts==groupTest).sum()/groupPredicts.shape[0]:.3f}\")\n",
    "\n",
    "indnames = ['ESEC AND FEMALE','ESEC AND MALE', 'DEI AND FEMALE', 'DEI AND MALE']\n",
    "for i in range(4):\n",
    "    sum_predicts = (groupPredicts==i).sum()\n",
    "    sum_true = (groupTest==i).sum()\n",
    "    precision = np.multiply(groupPredicts==i,groupTest==i).sum()/sum_predicts if sum_predicts else 0\n",
    "    recall = np.multiply(groupPredicts==i,groupTest==i).sum()/sum_true\n",
    "    f1scor = 2*precision*recall/(precision+recall) if precision+recall else 0.0\n",
    "    print('---')\n",
    "    print(f\"precision group {indnames[i]}: {precision:.3f}\")    \n",
    "    print(f\"reccal group {indnames[i]}: {recall:.3f}\")\n",
    "    print(f\"f1-scor group {indnames[i]}: {f1scor:.3f}\")\n",
    "    \n"
   ]
  }
 ],
 "metadata": {
  "kernelspec": {
   "display_name": "Python 3",
   "language": "python",
   "name": "python3"
  },
  "language_info": {
   "codemirror_mode": {
    "name": "ipython",
    "version": 3
   },
   "file_extension": ".py",
   "mimetype": "text/x-python",
   "name": "python",
   "nbconvert_exporter": "python",
   "pygments_lexer": "ipython3",
   "version": "3.7.4"
  }
 },
 "nbformat": 4,
 "nbformat_minor": 2
}
