{
 "cells": [
  {
   "cell_type": "code",
   "execution_count": null,
   "metadata": {},
   "outputs": [],
   "source": [
    "################################\n",
    "#### IMPORTS AND INICIALIZATIONS\n",
    "################################\n",
    "\n",
    "import pandas as pd\n",
    "import numpy as np\n",
    "from sklearn.preprocessing import normalize\n",
    "from matplotlib import pyplot as plt\n",
    "\n",
    "data = 'RAVEN/TrialRightWrong/Trial'\n",
    "\n",
    "# All the files we need\n",
    "files = ['/DEI_trial_by_trial_Right.xlsx', \n",
    "         '/DEI_trial_by_trial_Wrong.xlsx', \n",
    "         '/esec_trial_by_trial_Right.xlsx',\n",
    "         '/esec_trial_by_trial_Wrong.xlsx']\n",
    "genreFile = 'RAVEN/Informação_género.txt'"
   ]
  },
  {
   "cell_type": "code",
   "execution_count": null,
   "metadata": {},
   "outputs": [],
   "source": [
    "####################################\n",
    "#### EXTRACT DATA AND PRE-PROCESSING\n",
    "####################################\n",
    "\n",
    "# Initialize a dict for aggregate the fatigue values for each person and if answer right/wrong a question\n",
    "values = {}\n",
    "for file in files:\n",
    "    \n",
    "    # For each file\n",
    "    f = pd.ExcelFile(data+file)\n",
    "\n",
    "    # For each Train\n",
    "    for sheet in f.sheet_names[1:13]:\n",
    "        \n",
    "        df = pd.read_excel(f,  sheet_name=sheet)\n",
    "        \n",
    "        # Get the fatigue value for each person\n",
    "        # In the 'unnamed:22' column is where person id is\n",
    "        # Notice that if a person isn't in the 'right files', so he is in the 'wrong files'         \n",
    "        if df.shape[0] > 0:\n",
    "            for index, row in df[['Unnamed: 22', 'FATIGUE DISPLAY']].iterrows():\n",
    "\n",
    "                # cell = [genre, course, fatigue_value, correct(1)/incorret(0)]\n",
    "                cell = []\n",
    "                cell += [int(\"DEI\" in row[0]), row[1]] #[int(row[0]==\"DEI\"),sheet, row[1]]\n",
    "                cell += [1 if file == ('/DEI_trial_by_trial_Right.xlsx' or '/esec_trial_by_trial_Right.xlsx') else 0]\n",
    "                if (row[0] not in values.keys()):\n",
    "                    values[row[0]] = [cell]\n",
    "                else:\n",
    "                    values[row[0]] += [cell] \n",
    "                    \n",
    "#Extract the genre from genreFile\n",
    "with open(genreFile, \"r\") as f:\n",
    "    for l in f:\n",
    "        l = l.strip()\n",
    "        if l==\"\" or '--' in l:continue\n",
    "        id, genre, *rest = l.split(' - ')\n",
    "        if id[-2] == '_': id = id[:-1] + '0' + id[-1]\n",
    "        for i in range(len(values[id])):values[id][i][:0] = [int(genre=='Masculino')]  \n",
    "        \n",
    "\n",
    "# For each person ( PERSON : list([genre, course, fatigue_value, correct/incorrect ]))        \n",
    "fullItems = []\n",
    "for v in values.values():\n",
    "    fullItems += v\n",
    "fullItems = np.matrix(fullItems)\n",
    "dataX = normalize(fullItems[:,:-1], axis=0, norm='max')\n",
    "dataY = fullItems[:,-1]     \n",
    "print(dataY)"
   ]
  },
  {
   "cell_type": "code",
   "execution_count": null,
   "metadata": {},
   "outputs": [],
   "source": [
    "################################\n",
    "#### NORMALIZE AND AGGREGATE\n",
    "################################\n",
    "\n",
    "avg = []\n",
    "course_genre = []\n",
    "\n",
    "group = dataX[:, 0]+dataX[:, 1]*2\n",
    "cg, count = np.unique(group, return_counts=True)\n",
    "correct = 0\n",
    "print(dataY)\n",
    "\n",
    "for t,c in zip(cg,count):\n",
    "    validClass = (group == t) #True if it belongs to group genre/course\n",
    "    fadigue = validClass * dataX[:,2]\n",
    "    \n",
    "    #correctAnswers = (dataY*validClass)\n",
    "    #print(correctAnswers)\n",
    "    #for ans in correctAnswers:\n",
    "    #    correct = sum(ans==True)\n",
    "    #print(\"Correct \",correct)\n",
    "    avg.append(fadigue.sum()/c)\n",
    "    course_genre.append(t)\n",
    "\n",
    "print('Course with Genre:',course_genre, ', Avg:', avg)\n"
   ]
  },
  {
   "cell_type": "code",
   "execution_count": 4,
   "metadata": {
    "scrolled": false
   },
   "outputs": [
    {
     "data": {
      "image/png": "[encoded data removed]",
      "text/plain": [
       "<Figure size 1080x864 with 1 Axes>"
      ]
     },
     "metadata": {
      "needs_background": "light"
     },
     "output_type": "display_data"
    }
   ],
   "source": [
    "################################\n",
    "#### PLOT INFO \n",
    "################################\n",
    "\n",
    "# Plot the fatigue values for a specific person\n",
    "%matplotlib inline  \n",
    "x = ['ESEC AND FEMIN','ESEC AND MASC', 'DEI AND FEMIN', 'DEI AND MASC']\n",
    "y = avg\n",
    "plt.figure(figsize=(15,12))\n",
    "plt.bar(x,y)\n",
    "plt.title(\"Fatigue Values for the each course and each genre\")\n",
    "plt.xlabel('Each course with each genre')\n",
    "plt.xticks(fontsize=9 , rotation=30)\n",
    "plt.ylabel('Mean Fatigue Value')\n",
    "plt.show()"
   ]
  },
  {
   "cell_type": "code",
   "execution_count": null,
   "metadata": {},
   "outputs": [],
   "source": []
  }
 ],
 "metadata": {
  "kernelspec": {
   "display_name": "Python 3",
   "language": "python",
   "name": "python3"
  },
  "language_info": {
   "codemirror_mode": {
    "name": "ipython",
    "version": 3
   },
   "file_extension": ".py",
   "mimetype": "text/x-python",
   "name": "python",
   "nbconvert_exporter": "python",
   "pygments_lexer": "ipython3",
   "version": "3.6.8"
  }
 },
 "nbformat": 4,
 "nbformat_minor": 2
}
