{
 "cells": [
  {
   "cell_type": "code",
   "execution_count": 1,
   "metadata": {},
   "outputs": [],
   "source": [
    "import pandas as pd"
   ]
  },
  {
   "cell_type": "code",
   "execution_count": 2,
   "metadata": {},
   "outputs": [
    {
     "name": "stdout",
     "output_type": "stream",
     "text": [
      "0     110\n",
      "1     124\n",
      "2      78\n",
      "3     122\n",
      "4     118\n",
      "5      76\n",
      "6      76\n",
      "7      88\n",
      "8     104\n",
      "9     106\n",
      "10    118\n",
      "11    118\n",
      "12    106\n",
      "13     84\n",
      "14     80\n",
      "15    122\n",
      "16     86\n",
      "17    100\n",
      "18     76\n",
      "19    130\n",
      "20    114\n",
      "21    104\n",
      "Name: P100 PZ LATENCY DISPLAY, dtype: int64\n"
     ]
    }
   ],
   "source": [
    "data = 'RAVEN/TrialRightWrong/Trial'\n",
    "xlsx = pd.ExcelFile(data+'/DEI_trial_by_trial_Right.xlsx')\n",
    "df = pd.read_excel(xlsx,  sheet_name='TRIAL TRAINING1')\n",
    "print(df['P100 PZ LATENCY DISPLAY'])"
   ]
  },
  {
   "cell_type": "code",
   "execution_count": null,
   "metadata": {},
   "outputs": [],
   "source": []
  },
  {
   "cell_type": "code",
   "execution_count": null,
   "metadata": {},
   "outputs": [],
   "source": []
  }
 ],
 "metadata": {
  "kernelspec": {
   "display_name": "Python 3",
   "language": "python",
   "name": "python3"
  },
  "language_info": {
   "codemirror_mode": {
    "name": "ipython",
    "version": 3
   },
   "file_extension": ".py",
   "mimetype": "text/x-python",
   "name": "python",
   "nbconvert_exporter": "python",
   "pygments_lexer": "ipython3",
   "version": "3.7.4"
  }
 },
 "nbformat": 4,
 "nbformat_minor": 2
}
